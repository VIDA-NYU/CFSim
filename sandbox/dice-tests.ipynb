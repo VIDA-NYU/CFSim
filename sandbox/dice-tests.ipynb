{
 "cells": [
  {
   "cell_type": "code",
   "execution_count": 9,
   "id": "d3911fc0",
   "metadata": {},
   "outputs": [],
   "source": [
    "import dice_ml\n",
    "from dice_ml.utils import helpers # helper functions\n",
    "from sklearn.datasets import load_iris\n",
    "from sklearn.svm import SVC\n",
    "import pandas as pd\n",
    "import tensorflow as tf"
   ]
  },
  {
   "cell_type": "code",
   "execution_count": 5,
   "id": "8ada5abd",
   "metadata": {},
   "outputs": [
    {
     "name": "stdout",
     "output_type": "stream",
     "text": [
      "     sepal length (cm)  sepal width (cm)  petal length (cm)  petal width (cm)  \\\n",
      "0                  5.1               3.5                1.4               0.2   \n",
      "1                  4.9               3.0                1.4               0.2   \n",
      "2                  4.7               3.2                1.3               0.2   \n",
      "3                  4.6               3.1                1.5               0.2   \n",
      "4                  5.0               3.6                1.4               0.2   \n",
      "..                 ...               ...                ...               ...   \n",
      "145                6.7               3.0                5.2               2.3   \n",
      "146                6.3               2.5                5.0               1.9   \n",
      "147                6.5               3.0                5.2               2.0   \n",
      "148                6.2               3.4                5.4               2.3   \n",
      "149                5.9               3.0                5.1               1.8   \n",
      "\n",
      "     target  \n",
      "0         0  \n",
      "1         0  \n",
      "2         0  \n",
      "3         0  \n",
      "4         0  \n",
      "..      ...  \n",
      "145       2  \n",
      "146       2  \n",
      "147       2  \n",
      "148       2  \n",
      "149       2  \n",
      "\n",
      "[150 rows x 5 columns]\n"
     ]
    }
   ],
   "source": [
    "# print(sklearn.__version__) # 0.24.1\n",
    "\n",
    "iris = load_iris()\n",
    "X_iris = pd.DataFrame(iris.data, columns=iris.feature_names)\n",
    "y_iris = pd.Series(iris.target, name='target')\n",
    "\n",
    "clf = SVC()\n",
    "clf.fit(X_iris, y_iris)\n",
    "\n",
    "iris_df = X_iris.join(y_iris)\n",
    "print(iris_df)"
   ]
  },
  {
   "cell_type": "code",
   "execution_count": 6,
   "id": "1b9afa6a",
   "metadata": {},
   "outputs": [],
   "source": [
    "d = dice_ml.Data(dataframe=iris_df,\n",
    "                 continuous_features=iris.feature_names,\n",
    "                 outcome_name='target')\n",
    "\n",
    "m = dice_ml.Model(model=clf, backend='sklearn')\n",
    "exp = dice_ml.Dice(d,m)"
   ]
  },
  {
   "cell_type": "code",
   "execution_count": 4,
   "id": "19fe6cb2",
   "metadata": {},
   "outputs": [
    {
     "ename": "AttributeError",
     "evalue": "module 'tensorflow' has no attribute 'get_default_session'",
     "output_type": "error",
     "traceback": [
      "\u001b[0;31m---------------------------------------------------------------------------\u001b[0m",
      "\u001b[0;31mAttributeError\u001b[0m                            Traceback (most recent call last)",
      "Input \u001b[0;32mIn [4]\u001b[0m, in \u001b[0;36m<cell line: 4>\u001b[0;34m()\u001b[0m\n\u001b[1;32m      2\u001b[0m m \u001b[38;5;241m=\u001b[39m dice_ml\u001b[38;5;241m.\u001b[39mModel(model_path\u001b[38;5;241m=\u001b[39mdice_ml\u001b[38;5;241m.\u001b[39mutils\u001b[38;5;241m.\u001b[39mhelpers\u001b[38;5;241m.\u001b[39mget_adult_income_modelpath())\n\u001b[1;32m      3\u001b[0m \u001b[38;5;66;03m# DiCE explanation instance\u001b[39;00m\n\u001b[0;32m----> 4\u001b[0m exp \u001b[38;5;241m=\u001b[39m \u001b[43mdice_ml\u001b[49m\u001b[38;5;241;43m.\u001b[39;49m\u001b[43mDice\u001b[49m\u001b[43m(\u001b[49m\u001b[43md\u001b[49m\u001b[43m,\u001b[49m\u001b[43mm\u001b[49m\u001b[43m)\u001b[49m\n",
      "File \u001b[0;32m~/miniforge3/envs/cfsim/lib/python3.9/site-packages/dice_ml/dice.py:21\u001b[0m, in \u001b[0;36mDice.__init__\u001b[0;34m(self, data_interface, model_interface, method, **kwargs)\u001b[0m\n\u001b[1;32m     14\u001b[0m \u001b[38;5;28;01mdef\u001b[39;00m \u001b[38;5;21m__init__\u001b[39m(\u001b[38;5;28mself\u001b[39m, data_interface, model_interface, method\u001b[38;5;241m=\u001b[39m\u001b[38;5;124m\"\u001b[39m\u001b[38;5;124mrandom\u001b[39m\u001b[38;5;124m\"\u001b[39m,  \u001b[38;5;241m*\u001b[39m\u001b[38;5;241m*\u001b[39mkwargs):\n\u001b[1;32m     15\u001b[0m     \u001b[38;5;124;03m\"\"\"Init method\u001b[39;00m\n\u001b[1;32m     16\u001b[0m \n\u001b[1;32m     17\u001b[0m \u001b[38;5;124;03m    :param data_interface: an interface to access data related params.\u001b[39;00m\n\u001b[1;32m     18\u001b[0m \u001b[38;5;124;03m    :param model_interface: an interface to access the output or gradients of a trained ML model.\u001b[39;00m\n\u001b[1;32m     19\u001b[0m \u001b[38;5;124;03m    :param method: Name of the method to use for generating counterfactuals\u001b[39;00m\n\u001b[1;32m     20\u001b[0m \u001b[38;5;124;03m    \"\"\"\u001b[39;00m\n\u001b[0;32m---> 21\u001b[0m     \u001b[38;5;28;43mself\u001b[39;49m\u001b[38;5;241;43m.\u001b[39;49m\u001b[43mdecide_implementation_type\u001b[49m\u001b[43m(\u001b[49m\u001b[43mdata_interface\u001b[49m\u001b[43m,\u001b[49m\u001b[43m \u001b[49m\u001b[43mmodel_interface\u001b[49m\u001b[43m,\u001b[49m\u001b[43m \u001b[49m\u001b[43mmethod\u001b[49m\u001b[43m,\u001b[49m\u001b[43m \u001b[49m\u001b[38;5;241;43m*\u001b[39;49m\u001b[38;5;241;43m*\u001b[39;49m\u001b[43mkwargs\u001b[49m\u001b[43m)\u001b[49m\n",
      "File \u001b[0;32m~/miniforge3/envs/cfsim/lib/python3.9/site-packages/dice_ml/dice.py:31\u001b[0m, in \u001b[0;36mDice.decide_implementation_type\u001b[0;34m(self, data_interface, model_interface, method, **kwargs)\u001b[0m\n\u001b[1;32m     27\u001b[0m         \u001b[38;5;28;01mraise\u001b[39;00m UserConfigValidationException(\n\u001b[1;32m     28\u001b[0m             \u001b[38;5;124m'\u001b[39m\u001b[38;5;124mPrivate data interface is not supported with sklearn kdtree explainer\u001b[39m\u001b[38;5;124m'\u001b[39m\n\u001b[1;32m     29\u001b[0m             \u001b[38;5;124m'\u001b[39m\u001b[38;5;124m since kdtree explainer needs access to entire training data\u001b[39m\u001b[38;5;124m'\u001b[39m)\n\u001b[1;32m     30\u001b[0m \u001b[38;5;28mself\u001b[39m\u001b[38;5;241m.\u001b[39m\u001b[38;5;18m__class__\u001b[39m \u001b[38;5;241m=\u001b[39m decide(model_interface, method)\n\u001b[0;32m---> 31\u001b[0m \u001b[38;5;28;43mself\u001b[39;49m\u001b[38;5;241;43m.\u001b[39;49m\u001b[38;5;21;43m__init__\u001b[39;49m\u001b[43m(\u001b[49m\u001b[43mdata_interface\u001b[49m\u001b[43m,\u001b[49m\u001b[43m \u001b[49m\u001b[43mmodel_interface\u001b[49m\u001b[43m,\u001b[49m\u001b[43m \u001b[49m\u001b[38;5;241;43m*\u001b[39;49m\u001b[38;5;241;43m*\u001b[39;49m\u001b[43mkwargs\u001b[49m\u001b[43m)\u001b[49m\n",
      "File \u001b[0;32m~/miniforge3/envs/cfsim/lib/python3.9/site-packages/dice_ml/explainer_interfaces/dice_tensorflow1.py:33\u001b[0m, in \u001b[0;36mDiceTensorFlow1.__init__\u001b[0;34m(self, data_interface, model_interface)\u001b[0m\n\u001b[1;32m     28\u001b[0m \u001b[38;5;28mself\u001b[39m\u001b[38;5;241m.\u001b[39mminx, \u001b[38;5;28mself\u001b[39m\u001b[38;5;241m.\u001b[39mmaxx, \u001b[38;5;28mself\u001b[39m\u001b[38;5;241m.\u001b[39mencoded_categorical_feature_indexes, \\\n\u001b[1;32m     29\u001b[0m     \u001b[38;5;28mself\u001b[39m\u001b[38;5;241m.\u001b[39mencoded_continuous_feature_indexes, \u001b[38;5;28mself\u001b[39m\u001b[38;5;241m.\u001b[39mcont_minx, \\\n\u001b[1;32m     30\u001b[0m     \u001b[38;5;28mself\u001b[39m\u001b[38;5;241m.\u001b[39mcont_maxx, \u001b[38;5;28mself\u001b[39m\u001b[38;5;241m.\u001b[39mcont_precisions \u001b[38;5;241m=\u001b[39m \u001b[38;5;28mself\u001b[39m\u001b[38;5;241m.\u001b[39mdata_interface\u001b[38;5;241m.\u001b[39mget_data_params_for_gradient_dice()\n\u001b[1;32m     32\u001b[0m \u001b[38;5;66;03m# create TensorFLow session if one is not already created\u001b[39;00m\n\u001b[0;32m---> 33\u001b[0m \u001b[38;5;28;01mif\u001b[39;00m \u001b[43mtf\u001b[49m\u001b[38;5;241;43m.\u001b[39;49m\u001b[43mget_default_session\u001b[49m() \u001b[38;5;129;01mis\u001b[39;00m \u001b[38;5;129;01mnot\u001b[39;00m \u001b[38;5;28;01mNone\u001b[39;00m:\n\u001b[1;32m     34\u001b[0m     \u001b[38;5;28mself\u001b[39m\u001b[38;5;241m.\u001b[39mdice_sess \u001b[38;5;241m=\u001b[39m tf\u001b[38;5;241m.\u001b[39mget_default_session()\n\u001b[1;32m     35\u001b[0m \u001b[38;5;28;01melse\u001b[39;00m:\n",
      "\u001b[0;31mAttributeError\u001b[0m: module 'tensorflow' has no attribute 'get_default_session'"
     ]
    }
   ],
   "source": []
  },
  {
   "cell_type": "code",
   "execution_count": 12,
   "id": "440f9f76",
   "metadata": {},
   "outputs": [
    {
     "name": "stdout",
     "output_type": "stream",
     "text": [
      "Metal device set to: Apple M1 Max\n"
     ]
    },
    {
     "name": "stderr",
     "output_type": "stream",
     "text": [
      "2022-07-03 22:38:28.431853: I tensorflow/core/common_runtime/pluggable_device/pluggable_device_factory.cc:305] Could not identify NUMA node of platform GPU ID 0, defaulting to 0. Your kernel may not have been built with NUMA support.\n",
      "2022-07-03 22:38:28.431984: I tensorflow/core/common_runtime/pluggable_device/pluggable_device_factory.cc:271] Created TensorFlow device (/job:localhost/replica:0/task:0/device:GPU:0 with 0 MB memory) -> physical PluggableDevice (device: 0, name: METAL, pci bus id: <undefined>)\n"
     ]
    }
   ],
   "source": [
    "import dice_ml\n",
    "from dice_ml.utils import helpers # helper functions\n",
    "\n",
    "# Dataset for training an ML model\n",
    "d = dice_ml.Data(dataframe=helpers.load_adult_income_dataset(),\n",
    "                 continuous_features=['age', 'hours_per_week'],\n",
    "                 outcome_name='income')\n",
    "\n",
    "\n",
    "backend = 'TF'+tf.__version__[0] # TF2 in your case\n",
    "ML_modelpath = helpers.get_adult_income_modelpath(backend=backend)\n",
    "m = dice_ml.Model(model_path= ML_modelpath, backend=backend)\n",
    "\n",
    "\n",
    "\n",
    "# Pre-trained ML model\n",
    "# m = dice_ml.Model(model_path=dice_ml.utils.helpers.get_adult_income_modelpath())\n",
    "# DiCE explanation instance\n",
    "exp = dice_ml.Dice(d,m)"
   ]
  },
  {
   "cell_type": "code",
   "execution_count": 13,
   "id": "ee725e55",
   "metadata": {},
   "outputs": [],
   "source": [
    "query_instance = {'age':22,\n",
    "    'workclass':'Private',\n",
    "    'education':'HS-grad',\n",
    "    'marital_status':'Single',\n",
    "    'occupation':'Service',\n",
    "    'race': 'White',\n",
    "    'gender':'Female',\n",
    "    'hours_per_week': 45}"
   ]
  },
  {
   "cell_type": "code",
   "execution_count": 14,
   "id": "7a76e6ee",
   "metadata": {},
   "outputs": [
    {
     "name": "stderr",
     "output_type": "stream",
     "text": [
      "/Users/joaorulff/miniforge3/envs/cfsim/lib/python3.9/site-packages/dice_ml/data_interfaces/public_data_interface.py:582: FutureWarning: The frame.append method is deprecated and will be removed from pandas in a future version. Use pandas.concat instead.\n",
      "  temp = self.ohe_base_df.append(query_instance, ignore_index=True, sort=False)\n"
     ]
    },
    {
     "name": "stdout",
     "output_type": "stream",
     "text": [
      "Diverse Counterfactuals found! total time taken: 00 min 45 sec\n",
      "Query instance (original outcome : 0)\n"
     ]
    },
    {
     "name": "stderr",
     "output_type": "stream",
     "text": [
      "/Users/joaorulff/miniforge3/envs/cfsim/lib/python3.9/site-packages/dice_ml/data_interfaces/public_data_interface.py:582: FutureWarning: The frame.append method is deprecated and will be removed from pandas in a future version. Use pandas.concat instead.\n",
      "  temp = self.ohe_base_df.append(query_instance, ignore_index=True, sort=False)\n",
      "/Users/joaorulff/miniforge3/envs/cfsim/lib/python3.9/site-packages/dice_ml/data_interfaces/public_data_interface.py:582: FutureWarning: The frame.append method is deprecated and will be removed from pandas in a future version. Use pandas.concat instead.\n",
      "  temp = self.ohe_base_df.append(query_instance, ignore_index=True, sort=False)\n",
      "/Users/joaorulff/miniforge3/envs/cfsim/lib/python3.9/site-packages/dice_ml/data_interfaces/public_data_interface.py:582: FutureWarning: The frame.append method is deprecated and will be removed from pandas in a future version. Use pandas.concat instead.\n",
      "  temp = self.ohe_base_df.append(query_instance, ignore_index=True, sort=False)\n",
      "/Users/joaorulff/miniforge3/envs/cfsim/lib/python3.9/site-packages/dice_ml/data_interfaces/public_data_interface.py:582: FutureWarning: The frame.append method is deprecated and will be removed from pandas in a future version. Use pandas.concat instead.\n",
      "  temp = self.ohe_base_df.append(query_instance, ignore_index=True, sort=False)\n",
      "/Users/joaorulff/miniforge3/envs/cfsim/lib/python3.9/site-packages/dice_ml/data_interfaces/public_data_interface.py:582: FutureWarning: The frame.append method is deprecated and will be removed from pandas in a future version. Use pandas.concat instead.\n",
      "  temp = self.ohe_base_df.append(query_instance, ignore_index=True, sort=False)\n",
      "/Users/joaorulff/miniforge3/envs/cfsim/lib/python3.9/site-packages/dice_ml/data_interfaces/public_data_interface.py:582: FutureWarning: The frame.append method is deprecated and will be removed from pandas in a future version. Use pandas.concat instead.\n",
      "  temp = self.ohe_base_df.append(query_instance, ignore_index=True, sort=False)\n",
      "/Users/joaorulff/miniforge3/envs/cfsim/lib/python3.9/site-packages/dice_ml/data_interfaces/public_data_interface.py:582: FutureWarning: The frame.append method is deprecated and will be removed from pandas in a future version. Use pandas.concat instead.\n",
      "  temp = self.ohe_base_df.append(query_instance, ignore_index=True, sort=False)\n",
      "/Users/joaorulff/miniforge3/envs/cfsim/lib/python3.9/site-packages/dice_ml/data_interfaces/public_data_interface.py:582: FutureWarning: The frame.append method is deprecated and will be removed from pandas in a future version. Use pandas.concat instead.\n",
      "  temp = self.ohe_base_df.append(query_instance, ignore_index=True, sort=False)\n",
      "/Users/joaorulff/miniforge3/envs/cfsim/lib/python3.9/site-packages/dice_ml/data_interfaces/public_data_interface.py:582: FutureWarning: The frame.append method is deprecated and will be removed from pandas in a future version. Use pandas.concat instead.\n",
      "  temp = self.ohe_base_df.append(query_instance, ignore_index=True, sort=False)\n",
      "/Users/joaorulff/miniforge3/envs/cfsim/lib/python3.9/site-packages/dice_ml/data_interfaces/public_data_interface.py:582: FutureWarning: The frame.append method is deprecated and will be removed from pandas in a future version. Use pandas.concat instead.\n",
      "  temp = self.ohe_base_df.append(query_instance, ignore_index=True, sort=False)\n",
      "/Users/joaorulff/miniforge3/envs/cfsim/lib/python3.9/site-packages/dice_ml/data_interfaces/public_data_interface.py:582: FutureWarning: The frame.append method is deprecated and will be removed from pandas in a future version. Use pandas.concat instead.\n",
      "  temp = self.ohe_base_df.append(query_instance, ignore_index=True, sort=False)\n",
      "/Users/joaorulff/miniforge3/envs/cfsim/lib/python3.9/site-packages/dice_ml/data_interfaces/public_data_interface.py:582: FutureWarning: The frame.append method is deprecated and will be removed from pandas in a future version. Use pandas.concat instead.\n",
      "  temp = self.ohe_base_df.append(query_instance, ignore_index=True, sort=False)\n"
     ]
    },
    {
     "data": {
      "text/html": [
       "<div>\n",
       "<style scoped>\n",
       "    .dataframe tbody tr th:only-of-type {\n",
       "        vertical-align: middle;\n",
       "    }\n",
       "\n",
       "    .dataframe tbody tr th {\n",
       "        vertical-align: top;\n",
       "    }\n",
       "\n",
       "    .dataframe thead th {\n",
       "        text-align: right;\n",
       "    }\n",
       "</style>\n",
       "<table border=\"1\" class=\"dataframe\">\n",
       "  <thead>\n",
       "    <tr style=\"text-align: right;\">\n",
       "      <th></th>\n",
       "      <th>age</th>\n",
       "      <th>workclass</th>\n",
       "      <th>education</th>\n",
       "      <th>marital_status</th>\n",
       "      <th>occupation</th>\n",
       "      <th>race</th>\n",
       "      <th>gender</th>\n",
       "      <th>hours_per_week</th>\n",
       "      <th>income</th>\n",
       "    </tr>\n",
       "  </thead>\n",
       "  <tbody>\n",
       "    <tr>\n",
       "      <th>0</th>\n",
       "      <td>22.0</td>\n",
       "      <td>Private</td>\n",
       "      <td>HS-grad</td>\n",
       "      <td>Single</td>\n",
       "      <td>Service</td>\n",
       "      <td>White</td>\n",
       "      <td>Female</td>\n",
       "      <td>45.0</td>\n",
       "      <td>0.019</td>\n",
       "    </tr>\n",
       "  </tbody>\n",
       "</table>\n",
       "</div>"
      ],
      "text/plain": [
       "    age workclass education marital_status occupation   race  gender  \\\n",
       "0  22.0   Private   HS-grad         Single    Service  White  Female   \n",
       "\n",
       "   hours_per_week  income  \n",
       "0            45.0   0.019  "
      ]
     },
     "metadata": {},
     "output_type": "display_data"
    },
    {
     "name": "stdout",
     "output_type": "stream",
     "text": [
      "\n",
      "Diverse Counterfactual set (new outcome: 1.0)\n"
     ]
    },
    {
     "data": {
      "text/html": [
       "<div>\n",
       "<style scoped>\n",
       "    .dataframe tbody tr th:only-of-type {\n",
       "        vertical-align: middle;\n",
       "    }\n",
       "\n",
       "    .dataframe tbody tr th {\n",
       "        vertical-align: top;\n",
       "    }\n",
       "\n",
       "    .dataframe thead th {\n",
       "        text-align: right;\n",
       "    }\n",
       "</style>\n",
       "<table border=\"1\" class=\"dataframe\">\n",
       "  <thead>\n",
       "    <tr style=\"text-align: right;\">\n",
       "      <th></th>\n",
       "      <th>age</th>\n",
       "      <th>workclass</th>\n",
       "      <th>education</th>\n",
       "      <th>marital_status</th>\n",
       "      <th>occupation</th>\n",
       "      <th>race</th>\n",
       "      <th>gender</th>\n",
       "      <th>hours_per_week</th>\n",
       "      <th>income</th>\n",
       "    </tr>\n",
       "  </thead>\n",
       "  <tbody>\n",
       "    <tr>\n",
       "      <th>0</th>\n",
       "      <td>70.0</td>\n",
       "      <td>Private</td>\n",
       "      <td>Masters</td>\n",
       "      <td>Single</td>\n",
       "      <td>White-Collar</td>\n",
       "      <td>White</td>\n",
       "      <td>Female</td>\n",
       "      <td>51.0</td>\n",
       "      <td>0</td>\n",
       "    </tr>\n",
       "    <tr>\n",
       "      <th>1</th>\n",
       "      <td>22.0</td>\n",
       "      <td>Self-Employed</td>\n",
       "      <td>Doctorate</td>\n",
       "      <td>Married</td>\n",
       "      <td>Service</td>\n",
       "      <td>White</td>\n",
       "      <td>Female</td>\n",
       "      <td>45.0</td>\n",
       "      <td>0</td>\n",
       "    </tr>\n",
       "    <tr>\n",
       "      <th>2</th>\n",
       "      <td>47.0</td>\n",
       "      <td>Private</td>\n",
       "      <td>HS-grad</td>\n",
       "      <td>Married</td>\n",
       "      <td>Service</td>\n",
       "      <td>White</td>\n",
       "      <td>Female</td>\n",
       "      <td>45.0</td>\n",
       "      <td>0</td>\n",
       "    </tr>\n",
       "    <tr>\n",
       "      <th>3</th>\n",
       "      <td>36.0</td>\n",
       "      <td>Private</td>\n",
       "      <td>Prof-school</td>\n",
       "      <td>Married</td>\n",
       "      <td>Service</td>\n",
       "      <td>White</td>\n",
       "      <td>Female</td>\n",
       "      <td>62.0</td>\n",
       "      <td>0</td>\n",
       "    </tr>\n",
       "  </tbody>\n",
       "</table>\n",
       "</div>"
      ],
      "text/plain": [
       "    age      workclass    education marital_status    occupation   race  \\\n",
       "0  70.0        Private      Masters         Single  White-Collar  White   \n",
       "1  22.0  Self-Employed    Doctorate        Married       Service  White   \n",
       "2  47.0        Private      HS-grad        Married       Service  White   \n",
       "3  36.0        Private  Prof-school        Married       Service  White   \n",
       "\n",
       "   gender  hours_per_week  income  \n",
       "0  Female            51.0       0  \n",
       "1  Female            45.0       0  \n",
       "2  Female            45.0       0  \n",
       "3  Female            62.0       0  "
      ]
     },
     "metadata": {},
     "output_type": "display_data"
    }
   ],
   "source": [
    "# Generate counterfactual examples\n",
    "dice_exp = exp.generate_counterfactuals(query_instance, total_CFs=4, desired_class=\"opposite\")\n",
    "# Visualize counterfactual explanation\n",
    "dice_exp.visualize_as_dataframe()"
   ]
  },
  {
   "cell_type": "code",
   "execution_count": null,
   "id": "1be76b54",
   "metadata": {},
   "outputs": [],
   "source": []
  },
  {
   "cell_type": "code",
   "execution_count": null,
   "id": "58e5857c",
   "metadata": {},
   "outputs": [],
   "source": []
  }
 ],
 "metadata": {
  "kernelspec": {
   "display_name": "Python 3 (ipykernel)",
   "language": "python",
   "name": "python3"
  },
  "language_info": {
   "codemirror_mode": {
    "name": "ipython",
    "version": 3
   },
   "file_extension": ".py",
   "mimetype": "text/x-python",
   "name": "python",
   "nbconvert_exporter": "python",
   "pygments_lexer": "ipython3",
   "version": "3.9.13"
  }
 },
 "nbformat": 4,
 "nbformat_minor": 5
}
