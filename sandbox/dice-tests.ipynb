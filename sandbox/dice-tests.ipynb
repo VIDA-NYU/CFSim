{
 "cells": [
  {
   "cell_type": "code",
   "execution_count": 3,
   "id": "d3911fc0",
   "metadata": {},
   "outputs": [],
   "source": [
    "import dice_ml\n",
    "from dice_ml.utils import helpers # helper functions\n",
    "from sklearn.datasets import load_iris\n",
    "from sklearn.svm import SVC\n",
    "import pandas as pd\n",
    "# import tensorflow as tf\n",
    "import glob\n",
    "import pandas as pd\n",
    "from joblib import dump, load\n",
    "import json"
   ]
  },
  {
   "cell_type": "code",
   "execution_count": 6,
   "id": "b224d90f",
   "metadata": {},
   "outputs": [
    {
     "name": "stderr",
     "output_type": "stream",
     "text": [
      "/home/joaorulff/miniconda3/envs/cfsim/lib/python3.9/site-packages/sklearn/base.py:329: UserWarning: Trying to unpickle estimator DecisionTreeClassifier from version 1.1.1 when using version 1.0.2. This might lead to breaking code or invalid results. Use at your own risk. For more info please refer to:\n",
      "https://scikit-learn.org/stable/modules/model_persistence.html#security-maintainability-limitations\n",
      "  warnings.warn(\n",
      "/home/joaorulff/miniconda3/envs/cfsim/lib/python3.9/site-packages/sklearn/base.py:329: UserWarning: Trying to unpickle estimator RandomForestClassifier from version 1.1.1 when using version 1.0.2. This might lead to breaking code or invalid results. Use at your own risk. For more info please refer to:\n",
      "https://scikit-learn.org/stable/modules/model_persistence.html#security-maintainability-limitations\n",
      "  warnings.warn(\n"
     ]
    }
   ],
   "source": [
    "## loading dataset\n",
    "df = pd.read_csv('../data/raw/diabetes.csv')\n",
    "\n",
    "## transforming pandas dataframe into Dice dataframe\n",
    "dice_data = dice_ml.Data(dataframe=df, continuous_features=df.drop(columns=['Outcome']).columns.tolist(), outcome_name='Outcome')\n",
    "\n",
    "## loading model\n",
    "sklearn_model = load('../models/classifiers/diabetes.sav')\n",
    "\n",
    "## creating dice model\n",
    "dice_model = dice_ml.Model(model=sklearn_model, backend='sklearn')\n",
    "dice_exp = dice_ml.Dice(dice_data, dice_model, method=\"random\")"
   ]
  },
  {
   "cell_type": "code",
   "execution_count": 7,
   "id": "86390103",
   "metadata": {},
   "outputs": [],
   "source": [
    "test = df.drop(columns=['Outcome']).iloc[[4]].to_json(orient='records')"
   ]
  },
  {
   "cell_type": "code",
   "execution_count": 76,
   "id": "fe624961",
   "metadata": {},
   "outputs": [],
   "source": [
    "test_df = pd.read_json(test, orient ='records')"
   ]
  },
  {
   "cell_type": "code",
   "execution_count": 10,
   "id": "d9c60edd",
   "metadata": {},
   "outputs": [
    {
     "data": {
      "text/plain": [
       "'[{\"Pregnancies\":0,\"Glucose\":137,\"BloodPressure\":40,\"SkinThickness\":35,\"Insulin\":168,\"BMI\":43.1,\"DiabetesPedigreeFunction\":2.288,\"Age\":33}]'"
      ]
     },
     "execution_count": 10,
     "metadata": {},
     "output_type": "execute_result"
    }
   ],
   "source": [
    "test"
   ]
  },
  {
   "cell_type": "code",
   "execution_count": 21,
   "id": "2bfcbf40",
   "metadata": {},
   "outputs": [
    {
     "name": "stderr",
     "output_type": "stream",
     "text": [
      "100%|████████████████████████████████████████████████████████████████████████████████████████████████████████████████████████████████████████████████| 1/1 [00:00<00:00, 31.62it/s]"
     ]
    },
    {
     "name": "stdout",
     "output_type": "stream",
     "text": [
      "No Counterfactuals found for the given configuration, perhaps try with different parameters... ; total time taken: 00 min 00 sec\n"
     ]
    },
    {
     "name": "stderr",
     "output_type": "stream",
     "text": [
      "\n"
     ]
    },
    {
     "ename": "UserConfigValidationException",
     "evalue": "No counterfactuals found for any of the query points! Kindly check your configuration.",
     "output_type": "error",
     "traceback": [
      "\u001b[0;31m---------------------------------------------------------------------------\u001b[0m",
      "\u001b[0;31mUserConfigValidationException\u001b[0m             Traceback (most recent call last)",
      "Input \u001b[0;32mIn [21]\u001b[0m, in \u001b[0;36m<cell line: 3>\u001b[0;34m()\u001b[0m\n\u001b[1;32m      1\u001b[0m \u001b[38;5;66;03m## testing\u001b[39;00m\n\u001b[1;32m      2\u001b[0m query_instance \u001b[38;5;241m=\u001b[39m df\u001b[38;5;241m.\u001b[39mdrop(columns\u001b[38;5;241m=\u001b[39m[\u001b[38;5;124m'\u001b[39m\u001b[38;5;124mOutcome\u001b[39m\u001b[38;5;124m'\u001b[39m])\u001b[38;5;241m.\u001b[39miloc[[\u001b[38;5;241m4\u001b[39m]]\n\u001b[0;32m----> 3\u001b[0m cfs \u001b[38;5;241m=\u001b[39m \u001b[43mdice_exp\u001b[49m\u001b[38;5;241;43m.\u001b[39;49m\u001b[43mgenerate_counterfactuals\u001b[49m\u001b[43m(\u001b[49m\u001b[43mquery_instance\u001b[49m\u001b[43m,\u001b[49m\u001b[43m \u001b[49m\u001b[43mtotal_CFs\u001b[49m\u001b[38;5;241;43m=\u001b[39;49m\u001b[38;5;241;43m20\u001b[39;49m\u001b[43m,\u001b[49m\u001b[43m \u001b[49m\u001b[43mdesired_class\u001b[49m\u001b[38;5;241;43m=\u001b[39;49m\u001b[38;5;124;43m\"\u001b[39;49m\u001b[38;5;124;43mopposite\u001b[39;49m\u001b[38;5;124;43m\"\u001b[39;49m\u001b[43m,\u001b[49m\u001b[43m \u001b[49m\u001b[43mfeatures_to_vary\u001b[49m\u001b[38;5;241;43m=\u001b[39;49m\u001b[43m[\u001b[49m\u001b[38;5;124;43m'\u001b[39;49m\u001b[38;5;124;43mBloodPressure\u001b[39;49m\u001b[38;5;124;43m'\u001b[39;49m\u001b[43m]\u001b[49m\u001b[43m)\u001b[49m\n\u001b[1;32m      4\u001b[0m \u001b[38;5;28mprint\u001b[39m(cfs)\n",
      "File \u001b[0;32m~/miniconda3/envs/cfsim/lib/python3.9/site-packages/dice_ml/explainer_interfaces/explainer_base.py:175\u001b[0m, in \u001b[0;36mExplainerBase.generate_counterfactuals\u001b[0;34m(self, query_instances, total_CFs, desired_class, desired_range, permitted_range, features_to_vary, stopping_threshold, posthoc_sparsity_param, proximity_weight, sparsity_weight, diversity_weight, categorical_penalty, posthoc_sparsity_algorithm, verbose, **kwargs)\u001b[0m\n\u001b[1;32m    162\u001b[0m     res \u001b[38;5;241m=\u001b[39m \u001b[38;5;28mself\u001b[39m\u001b[38;5;241m.\u001b[39m_generate_counterfactuals(\n\u001b[1;32m    163\u001b[0m         query_instance, total_CFs,\n\u001b[1;32m    164\u001b[0m         desired_class\u001b[38;5;241m=\u001b[39mdesired_class,\n\u001b[0;32m   (...)\u001b[0m\n\u001b[1;32m    171\u001b[0m         verbose\u001b[38;5;241m=\u001b[39mverbose,\n\u001b[1;32m    172\u001b[0m         \u001b[38;5;241m*\u001b[39m\u001b[38;5;241m*\u001b[39mkwargs)\n\u001b[1;32m    173\u001b[0m     cf_examples_arr\u001b[38;5;241m.\u001b[39mappend(res)\n\u001b[0;32m--> 175\u001b[0m \u001b[38;5;28;43mself\u001b[39;49m\u001b[38;5;241;43m.\u001b[39;49m\u001b[43m_check_any_counterfactuals_computed\u001b[49m\u001b[43m(\u001b[49m\u001b[43mcf_examples_arr\u001b[49m\u001b[38;5;241;43m=\u001b[39;49m\u001b[43mcf_examples_arr\u001b[49m\u001b[43m)\u001b[49m\n\u001b[1;32m    177\u001b[0m \u001b[38;5;28;01mreturn\u001b[39;00m CounterfactualExplanations(cf_examples_list\u001b[38;5;241m=\u001b[39mcf_examples_arr)\n",
      "File \u001b[0;32m~/miniconda3/envs/cfsim/lib/python3.9/site-packages/dice_ml/explainer_interfaces/explainer_base.py:811\u001b[0m, in \u001b[0;36mExplainerBase._check_any_counterfactuals_computed\u001b[0;34m(self, cf_examples_arr)\u001b[0m\n\u001b[1;32m    809\u001b[0m         \u001b[38;5;28;01mbreak\u001b[39;00m\n\u001b[1;32m    810\u001b[0m \u001b[38;5;28;01mif\u001b[39;00m no_cf_generated:\n\u001b[0;32m--> 811\u001b[0m     \u001b[38;5;28;01mraise\u001b[39;00m UserConfigValidationException(\n\u001b[1;32m    812\u001b[0m         \u001b[38;5;124m\"\u001b[39m\u001b[38;5;124mNo counterfactuals found for any of the query points! Kindly check your configuration.\u001b[39m\u001b[38;5;124m\"\u001b[39m)\n",
      "\u001b[0;31mUserConfigValidationException\u001b[0m: No counterfactuals found for any of the query points! Kindly check your configuration."
     ]
    }
   ],
   "source": [
    "## testing\n",
    "query_instance = df.drop(columns=['Outcome']).iloc[[4]]\n",
    "cfs = dice_exp.generate_counterfactuals(query_instance, total_CFs=20, desired_class=\"opposite\", features_to_vary=['BloodPressure'])\n",
    "print(cfs)\n",
    "# cfs.visualize_as_dataframe(show_only_changes=True)"
   ]
  }
 ],
 "metadata": {
  "kernelspec": {
   "display_name": "Python 3 (ipykernel)",
   "language": "python",
   "name": "python3"
  },
  "language_info": {
   "codemirror_mode": {
    "name": "ipython",
    "version": 3
   },
   "file_extension": ".py",
   "mimetype": "text/x-python",
   "name": "python",
   "nbconvert_exporter": "python",
   "pygments_lexer": "ipython3",
   "version": "3.9.12"
  }
 },
 "nbformat": 4,
 "nbformat_minor": 5
}
